{
 "cells": [
  {
   "cell_type": "markdown",
   "metadata": {},
   "source": [
    "# LInear Algebra Final Solutions\n",
    "\n",
    "Comments:     \n",
    "    1. Q12 - I gave full credit to people who showed they had the right direction on q12. \n"
   ]
  },
  {
   "cell_type": "code",
   "execution_count": 9,
   "metadata": {
    "collapsed": false
   },
   "outputs": [
    {
     "name": "stdout",
     "output_type": "stream",
     "text": [
      "Solution q1: \n",
      "[[  1  -3   7]\n",
      " [  0   9   1]\n",
      " [ -5   1   0]\n",
      " [  9 -11  23]]\n"
     ]
    }
   ],
   "source": [
    "import numpy as np\n",
    "\n",
    "A = np.array([[1,0,-5,9],[-3,9,1,-11],[7,1,0,23]])\n",
    "\n",
    "# A^T\n",
    "A_trans = np.matrix.transpose(A)\n",
    "#Solution #1\n",
    "print \"Solution q1: \\n%s\" % A_trans\n",
    "\n"
   ]
  },
  {
   "cell_type": "markdown",
   "metadata": {},
   "source": [
    "## Solution 2\n",
    "When k = 3/5 the 2 equations become linearly dependent and have infinitely many solutions"
   ]
  },
  {
   "cell_type": "code",
   "execution_count": 130,
   "metadata": {
    "collapsed": false
   },
   "outputs": [
    {
     "name": "stdout",
     "output_type": "stream",
     "text": [
      "Solution q3: \n",
      "[[ 1.  0.  0.]\n",
      " [ 0.  1.  0.]\n",
      " [ 0.  0.  1.]]\n"
     ]
    }
   ],
   "source": [
    "## Solution 3\n",
    "\n",
    "A = np.array([[3,5,-1],[0,5,1],[0,0,0]])\n",
    "\n",
    "a_identity = np.identity(len(A))\n",
    "#Solution #1\n",
    "print \"Solution q3: \\n%s\" % a_identity\n"
   ]
  },
  {
   "cell_type": "code",
   "execution_count": 131,
   "metadata": {
    "collapsed": false
   },
   "outputs": [
    {
     "name": "stdout",
     "output_type": "stream",
     "text": [
      "Solution q4:\n",
      "X: 0.918367346939, Y: 0.408163265306, Z: 3.0612244898\n",
      "x = 45/49; y = 20/49; z = 150/49\n"
     ]
    }
   ],
   "source": [
    "from fractions import Fraction\n",
    "## Solution 4\n",
    "A = np.array([[5,1,0],[0,2,3],[3,0,4]])\n",
    "B = np.array([5,10,15])\n",
    "\n",
    "#The question required person to do the work out. The final solution is:\n",
    "x = np.linalg.solve(A,B)\n",
    "print \"Solution q4:\\nX: %s, Y: %s, Z: %s\" % (x[0],x[1],x[2])\n",
    "\n",
    "print \"x = 45/49; y = 20/49; z = 150/49\"\n"
   ]
  },
  {
   "cell_type": "code",
   "execution_count": 132,
   "metadata": {
    "collapsed": false
   },
   "outputs": [
    {
     "name": "stdout",
     "output_type": "stream",
     "text": [
      "Solution q5:\n",
      "[[79 -9 79]\n",
      " [71 -1 71]]\n"
     ]
    }
   ],
   "source": [
    "#Solution 5\n",
    "A = np.matrix([[3,-2,6],[5,-1,3]])\n",
    "B = np.matrix([[9,1,9],[1,9,1],[9,1,9]])\n",
    "print \"Solution q5:\\n%s\" % (A*B)"
   ]
  },
  {
   "cell_type": "code",
   "execution_count": 133,
   "metadata": {
    "collapsed": false
   },
   "outputs": [
    {
     "name": "stdout",
     "output_type": "stream",
     "text": [
      "Solution q6:\n",
      "[[-40.  16.   9.]\n",
      " [ 13.  -5.  -3.]\n",
      " [  5.  -2.  -1.]]\n"
     ]
    }
   ],
   "source": [
    "#Solution 6\n",
    "#Find inverse:\n",
    "C = np.matrix([[1,2,3],[2,5,3],[1,0,8]])\n",
    "c_inv= np.linalg.inv(C)\n",
    "print \"Solution q6:\\n%s\" % c_inv"
   ]
  },
  {
   "cell_type": "code",
   "execution_count": 134,
   "metadata": {
    "collapsed": false
   },
   "outputs": [
    {
     "name": "stdout",
     "output_type": "stream",
     "text": [
      "Solution q7:\n",
      "X: 0.0, Y: 0.0, Z: 0.0\n"
     ]
    }
   ],
   "source": [
    "#Solution 7\n",
    "#Find x\n",
    "A = np.array([[3,5,1],[2,3,7],[0,15,20]])\n",
    "b = np.array([0,0,0])\n",
    "x = np.linalg.solve(A,b)\n",
    "print \"Solution q7:\\nX: %s, Y: %s, Z: %s\" % (x[0],x[1],x[2])\n"
   ]
  },
  {
   "cell_type": "markdown",
   "metadata": {},
   "source": [
    "## Solution 8a:\n",
    "\n",
    "Anything similar to: \n",
    "The rank of a matrix describes the maximum number of linearly independent rows/columns\n",
    "of a matrix or the dimension of the row or column space.\n",
    " \n",
    "\"The maximum number of linearly independent vectors in a matrix is equal to the number of non-zero rows in its row echelon matrix. Therefore, to find the rank of a matrix, we simply transform the matrix to its row echelon form and count the number of non-zero rows\"\n"
   ]
  },
  {
   "cell_type": "code",
   "execution_count": 135,
   "metadata": {
    "collapsed": false
   },
   "outputs": [
    {
     "name": "stdout",
     "output_type": "stream",
     "text": [
      "Solution q7: \n",
      "Rank: 2\n"
     ]
    }
   ],
   "source": [
    "#solution 8b:\n",
    "A = np.matrix([[1,2,1],[-2,-3,1],[3,5,0]])\n",
    "rank = np.linalg.matrix_rank(A)\n",
    "print \"Solution q7: \\nRank: %s\" % (rank)\n"
   ]
  },
  {
   "cell_type": "code",
   "execution_count": 136,
   "metadata": {
    "collapsed": false
   },
   "outputs": [
    {
     "name": "stdout",
     "output_type": "stream",
     "text": [
      "Solution q7: \n",
      "Determinant: -5927.0\n"
     ]
    }
   ],
   "source": [
    "#Solution 9:\n",
    "A = np.matrix([[11,-20,33],[21,8,-18],[6,-13,10]])\n",
    "det = np.linalg.det(A)\n",
    "print \"Solution q7: \\nDeterminant: %s\" % (det)\n"
   ]
  },
  {
   "cell_type": "code",
   "execution_count": 137,
   "metadata": {
    "collapsed": false
   },
   "outputs": [
    {
     "name": "stdout",
     "output_type": "stream",
     "text": [
      "           Geraldine  Allison  Johnnie  daniel  Olivia  Carole\n",
      "Geraldine          1        1        1       0       0       0\n",
      "Allison            1        1        0       1       0       0\n",
      "Johnnie            1        0        1       1       1       1\n",
      "daniel             0        1        1       1       1       1\n",
      "Olivia             0        0        1       1       1       0\n",
      "Carole             0        0        1       1       0       1\n"
     ]
    },
    {
     "data": {
      "image/png": "[encoded data removed]",
      "text/plain": [
       "<matplotlib.figure.Figure at 0x10ccefa90>"
      ]
     },
     "metadata": {},
     "output_type": "display_data"
    }
   ],
   "source": [
    "%matplotlib inline\n",
    "\n",
    "#Solution 10A : \n",
    "#Solution 10B : \n",
    "import networkx as nx\n",
    "\n",
    "G=nx.Graph()\n",
    "G.add_edge(\"daniel\",\"Carole\")\n",
    "G.add_edge(\"daniel\",\"Johnnie\")\n",
    "G.add_edge(\"daniel\",\"Allison\")\n",
    "G.add_edge(\"daniel\",\"Olivia\")\n",
    "G.add_edge(\"Carole\",\"Johnnie\")\n",
    "G.add_edge(\"Allison\",\"Geraldine\")\n",
    "G.add_edge(\"Johnnie\",\"Geraldine\")\n",
    "G.add_edge(\"Johnnie\",\"Olivia\")\n",
    "import matplotlib.pyplot as plt\n",
    "pos=nx.spring_layout(G) # positions for all nodes\n",
    "labels={\"daniel\":\"daniel\",\n",
    "       \"Carole\":\"Carole\",\n",
    "       \"Allison\":\"Allison\",\n",
    "       \"Olivia\":\"Olivia\",\n",
    "       \"Johnnie\":\"Johnnie\",\n",
    "       \"Geraldine\":\"Geraldine\"}\n",
    "nx.draw_networkx_edges(G,pos,width=1.0,alpha=0.5)\n",
    "nx.draw_networkx_nodes(G,pos,labels)\n",
    "nx.draw_networkx_labels(G,pos,labels,font_size=10)\n",
    "\n",
    "\n",
    "#Part B\n",
    "import pandas as pd\n",
    "DF_re = pd.DataFrame(np.identity(len(G.nodes())),index=G.nodes(),columns=G.nodes())\n",
    "for col_label,row_label in G.edges():\n",
    "    DF_re.loc[col_label,row_label] = 1\n",
    "    DF_re.loc[row_label,col_label] = 1\n",
    "\n",
    "print DF_re\n",
    "\n",
    "#10C: Use weighted edges (e.g. 1=colleague, 2=good friend, 3=best friend etc.)"
   ]
  },
  {
   "cell_type": "code",
   "execution_count": 138,
   "metadata": {
    "collapsed": false
   },
   "outputs": [
    {
     "name": "stdout",
     "output_type": "stream",
     "text": [
      "Solution q11:\n",
      "Eigenvalues: [ 1. -5.]\n",
      "Eigenvectors:[[ 0.98994949 -0.70710678]\n",
      " [-0.14142136  0.70710678]]\n"
     ]
    }
   ],
   "source": [
    "#Solution 11\n",
    "A= np.matrix([[2,7],[-1,-6]])\n",
    "res= np.linalg.eig(A)\n",
    "print \"Solution q11:\\nEigenvalues: %s\\nEigenvectors:%s\" % (res[0],res[1])"
   ]
  },
  {
   "cell_type": "code",
   "execution_count": 139,
   "metadata": {
    "collapsed": false
   },
   "outputs": [
    {
     "name": "stdout",
     "output_type": "stream",
     "text": [
      "Solution q12:\n",
      "Eigenvalues: [ 5.94479745  2.54671087 -4.49150832]\n",
      "Eigenvectors:[[-0.6799241  -0.922791   -0.48089027]\n",
      " [-0.71965065  0.37614441  0.05066532]\n",
      " [-0.14073436 -0.08349942  0.8753157 ]]\n"
     ]
    }
   ],
   "source": [
    "A= np.matrix([[3,2,4],[1,5,0],[1,1,-4]])\n",
    "res= np.linalg.eig(A)\n",
    "print \"Solution q12:\\nEigenvalues: %s\\nEigenvectors:%s\" % (res[0],res[1])\n",
    "\n",
    "## Since it is non-trivial to solve the factorization by hand, I gave full credit were the work was clearly shown."
   ]
  },
  {
   "cell_type": "code",
   "execution_count": 140,
   "metadata": {
    "collapsed": false
   },
   "outputs": [
    {
     "name": "stdout",
     "output_type": "stream",
     "text": [
      "Solution q13:\n",
      "A:[[ 0.5   0.4   0.2 ]\n",
      " [ 0.4   0.3   0.79]\n",
      " [ 0.1   0.3   0.01]]\n"
     ]
    }
   ],
   "source": [
    "A = np.matrix([[.5,.4,.2],[.4,.3,.79],[.1,.3,.01]])\n",
    "print \"Solution q13:\\nA:%s\" %A"
   ]
  },
  {
   "cell_type": "code",
   "execution_count": 141,
   "metadata": {
    "collapsed": false
   },
   "outputs": [
    {
     "name": "stdout",
     "output_type": "stream",
     "text": [
      "Steady State: x1: 0.24, x2: 0.22, x3: 0.55\n"
     ]
    }
   ],
   "source": [
    "from discreteMarkovChain import markovChain\n",
    "\n",
    "\n",
    "mc = markovChain(A)\n",
    "mc.computePi('linear') #We can also use 'power', 'krylov' or 'eigen'\n",
    "x=mc.pi\n",
    "print\"Steady State: x1: %.2f, x2: %.2f, x3: %.2f\" %(x[0],x[1],x[2])"
   ]
  },
  {
   "cell_type": "code",
   "execution_count": 142,
   "metadata": {
    "collapsed": false
   },
   "outputs": [
    {
     "name": "stdout",
     "output_type": "stream",
     "text": [
      "Solution 14:\n",
      " [[ 6  8 11]\n",
      " [ 8  0  6]\n",
      " [ 0  5  1]]\n"
     ]
    }
   ],
   "source": [
    "#Solution q14:\n",
    "A = np.matrix([[5,0,2],[-1,2,7],[1,3,-6]])\n",
    "kernel = np.matrix([[1,1,1],[0,1,0],[0,1,0]])\n",
    "from scipy import ndimage\n",
    "print \"Solution 14:\\n %s\" % ndimage.convolve(A,kernel,mode='constant',cval=0)\n"
   ]
  }
 ],
 "metadata": {
  "kernelspec": {
   "display_name": "Python 2",
   "language": "python",
   "name": "python2"
  },
  "language_info": {
   "codemirror_mode": {
    "name": "ipython",
    "version": 2
   },
   "file_extension": ".py",
   "mimetype": "text/x-python",
   "name": "python",
   "nbconvert_exporter": "python",
   "pygments_lexer": "ipython2",
   "version": "2.7.11"
  }
 },
 "nbformat": 4,
 "nbformat_minor": 0
}
